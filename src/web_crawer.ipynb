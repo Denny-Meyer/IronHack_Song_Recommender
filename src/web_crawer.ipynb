{
 "cells": [
  {
   "cell_type": "code",
   "execution_count": 288,
   "metadata": {},
   "outputs": [],
   "source": [
    "# import libraries\n",
    "from bs4 import BeautifulSoup\n",
    "import requests as req\n",
    "\n",
    "import pandas as pd\n",
    "\n",
    "from random import randrange\n"
   ]
  },
  {
   "cell_type": "code",
   "execution_count": 289,
   "metadata": {},
   "outputs": [],
   "source": [
    "# set website url\n",
    "url = 'https://www.billboard.com/charts/hot-100/'"
   ]
  },
  {
   "cell_type": "code",
   "execution_count": 290,
   "metadata": {},
   "outputs": [],
   "source": [
    "# load file \n",
    "response = req.get(url=url)"
   ]
  },
  {
   "cell_type": "code",
   "execution_count": 291,
   "metadata": {},
   "outputs": [
    {
     "data": {
      "text/plain": [
       "200"
      ]
     },
     "execution_count": 291,
     "metadata": {},
     "output_type": "execute_result"
    }
   ],
   "source": [
    "# check response status\n",
    "response.status_code"
   ]
  },
  {
   "cell_type": "code",
   "execution_count": 292,
   "metadata": {},
   "outputs": [],
   "source": [
    "#start data wrangling\n",
    "# task: find 100 song, name, artist and more"
   ]
  },
  {
   "cell_type": "code",
   "execution_count": 293,
   "metadata": {},
   "outputs": [],
   "source": [
    "soup = BeautifulSoup(response.content, 'html.parser')"
   ]
  },
  {
   "cell_type": "code",
   "execution_count": 294,
   "metadata": {},
   "outputs": [],
   "source": [
    "# run throug data\n",
    "data_complete = []\n",
    "\n",
    "for ultag in soup.find_all('ul', {'class': 'o-chart-results-list-row'}):\n",
    "\n",
    "    data = []\n",
    "    for litag in ultag.find_all('li', {'class': 'o-chart-results-list__item'}):\n",
    "            label = litag.findAll(class_='c-label')\n",
    "            for i in label:\n",
    "                d = i.text.strip('\\n')\n",
    "                data.append(d)\n",
    "            title = litag.findAll(class_='c-title')\n",
    "            for t in title:\n",
    "                data.append(t.text.strip('\\n'))\n",
    "    #print(data)\n",
    "    data_complete.append(data)"
   ]
  },
  {
   "cell_type": "code",
   "execution_count": 295,
   "metadata": {},
   "outputs": [],
   "source": [
    "# create music table\n",
    "\n",
    "music_table = pd.DataFrame(columns=['song','artist','last_week', 'peak_pos', 'wks_on_chart', 'featured'])\n",
    "\n",
    "\n",
    "# reason for counting backwards in data_complete\n",
    "# if element holds 'NEW' value, all elements seems to be shifted, in this case one list elements holds 10 instant of 8 items\n",
    "\n",
    "\n",
    "for entry in data_complete:\n",
    "    row = {'song': entry[-7],'artist': entry[-8], 'last_week': entry[-6], 'peak_pos': entry[-5], 'wks_on_chart': entry[-4]}\n",
    "    if entry[1] == 'NEW':\n",
    "        row['featured'] = 'new'\n",
    "    elif entry[1] == 'RE-\\nENTER':\n",
    "        row['featured'] = 'reenter'\n",
    "    else:\n",
    "        row['featured'] = '-'   \n",
    "    music_table.loc[entry[0]] = row"
   ]
  },
  {
   "cell_type": "code",
   "execution_count": 296,
   "metadata": {},
   "outputs": [],
   "source": [
    "music_table['song'] = music_table['song'].str.lower()\n",
    "music_table['artist'] = music_table['artist'].str.lower()"
   ]
  },
  {
   "cell_type": "code",
   "execution_count": 297,
   "metadata": {},
   "outputs": [
    {
     "data": {
      "text/html": [
       "<div>\n",
       "<style scoped>\n",
       "    .dataframe tbody tr th:only-of-type {\n",
       "        vertical-align: middle;\n",
       "    }\n",
       "\n",
       "    .dataframe tbody tr th {\n",
       "        vertical-align: top;\n",
       "    }\n",
       "\n",
       "    .dataframe thead th {\n",
       "        text-align: right;\n",
       "    }\n",
       "</style>\n",
       "<table border=\"1\" class=\"dataframe\">\n",
       "  <thead>\n",
       "    <tr style=\"text-align: right;\">\n",
       "      <th></th>\n",
       "      <th>song</th>\n",
       "      <th>artist</th>\n",
       "      <th>last_week</th>\n",
       "      <th>peak_pos</th>\n",
       "      <th>wks_on_chart</th>\n",
       "      <th>featured</th>\n",
       "    </tr>\n",
       "  </thead>\n",
       "  <tbody>\n",
       "    <tr>\n",
       "      <th>1</th>\n",
       "      <td>easy on me</td>\n",
       "      <td>adele</td>\n",
       "      <td>1</td>\n",
       "      <td>1</td>\n",
       "      <td>5</td>\n",
       "      <td>-</td>\n",
       "    </tr>\n",
       "    <tr>\n",
       "      <th>2</th>\n",
       "      <td>stay</td>\n",
       "      <td>the kid laroi &amp; justin bieber</td>\n",
       "      <td>2</td>\n",
       "      <td>1</td>\n",
       "      <td>18</td>\n",
       "      <td>-</td>\n",
       "    </tr>\n",
       "    <tr>\n",
       "      <th>3</th>\n",
       "      <td>industry baby</td>\n",
       "      <td>lil nas x &amp; jack harlow</td>\n",
       "      <td>3</td>\n",
       "      <td>1</td>\n",
       "      <td>16</td>\n",
       "      <td>-</td>\n",
       "    </tr>\n",
       "    <tr>\n",
       "      <th>4</th>\n",
       "      <td>bad habits</td>\n",
       "      <td>ed sheeran</td>\n",
       "      <td>4</td>\n",
       "      <td>2</td>\n",
       "      <td>20</td>\n",
       "      <td>-</td>\n",
       "    </tr>\n",
       "    <tr>\n",
       "      <th>5</th>\n",
       "      <td>shivers</td>\n",
       "      <td>ed sheeran</td>\n",
       "      <td>6</td>\n",
       "      <td>5</td>\n",
       "      <td>9</td>\n",
       "      <td>-</td>\n",
       "    </tr>\n",
       "    <tr>\n",
       "      <th>...</th>\n",
       "      <td>...</td>\n",
       "      <td>...</td>\n",
       "      <td>...</td>\n",
       "      <td>...</td>\n",
       "      <td>...</td>\n",
       "      <td>...</td>\n",
       "    </tr>\n",
       "    <tr>\n",
       "      <th>96</th>\n",
       "      <td>praise god</td>\n",
       "      <td>kanye west</td>\n",
       "      <td>78</td>\n",
       "      <td>20</td>\n",
       "      <td>7</td>\n",
       "      <td>-</td>\n",
       "    </tr>\n",
       "    <tr>\n",
       "      <th>97</th>\n",
       "      <td>super gremlin</td>\n",
       "      <td>kodak black</td>\n",
       "      <td>-</td>\n",
       "      <td>97</td>\n",
       "      <td>1</td>\n",
       "      <td>new</td>\n",
       "    </tr>\n",
       "    <tr>\n",
       "      <th>98</th>\n",
       "      <td>poke it out</td>\n",
       "      <td>wale featuring j. cole</td>\n",
       "      <td>79</td>\n",
       "      <td>79</td>\n",
       "      <td>3</td>\n",
       "      <td>-</td>\n",
       "    </tr>\n",
       "    <tr>\n",
       "      <th>99</th>\n",
       "      <td>half of my hometown</td>\n",
       "      <td>kelsea ballerini featuring kenny chesney</td>\n",
       "      <td>87</td>\n",
       "      <td>87</td>\n",
       "      <td>3</td>\n",
       "      <td>-</td>\n",
       "    </tr>\n",
       "    <tr>\n",
       "      <th>100</th>\n",
       "      <td>2055</td>\n",
       "      <td>sleepy hallow</td>\n",
       "      <td>77</td>\n",
       "      <td>51</td>\n",
       "      <td>17</td>\n",
       "      <td>-</td>\n",
       "    </tr>\n",
       "  </tbody>\n",
       "</table>\n",
       "<p>100 rows × 6 columns</p>\n",
       "</div>"
      ],
      "text/plain": [
       "                    song                                    artist last_week  \\\n",
       "1             easy on me                                     adele         1   \n",
       "2                   stay             the kid laroi & justin bieber         2   \n",
       "3          industry baby                   lil nas x & jack harlow         3   \n",
       "4             bad habits                                ed sheeran         4   \n",
       "5                shivers                                ed sheeran         6   \n",
       "..                   ...                                       ...       ...   \n",
       "96            praise god                                kanye west        78   \n",
       "97         super gremlin                               kodak black         -   \n",
       "98           poke it out                    wale featuring j. cole        79   \n",
       "99   half of my hometown  kelsea ballerini featuring kenny chesney        87   \n",
       "100                 2055                             sleepy hallow        77   \n",
       "\n",
       "    peak_pos wks_on_chart featured  \n",
       "1          1            5        -  \n",
       "2          1           18        -  \n",
       "3          1           16        -  \n",
       "4          2           20        -  \n",
       "5          5            9        -  \n",
       "..       ...          ...      ...  \n",
       "96        20            7        -  \n",
       "97        97            1      new  \n",
       "98        79            3        -  \n",
       "99        87            3        -  \n",
       "100       51           17        -  \n",
       "\n",
       "[100 rows x 6 columns]"
      ]
     },
     "execution_count": 297,
     "metadata": {},
     "output_type": "execute_result"
    }
   ],
   "source": [
    "music_table"
   ]
  },
  {
   "cell_type": "code",
   "execution_count": 301,
   "metadata": {},
   "outputs": [],
   "source": [
    "song_in = input('please give me a song')"
   ]
  },
  {
   "cell_type": "code",
   "execution_count": 302,
   "metadata": {},
   "outputs": [
    {
     "data": {
      "text/plain": [
       "'stay'"
      ]
     },
     "execution_count": 302,
     "metadata": {},
     "output_type": "execute_result"
    }
   ],
   "source": [
    "song_in"
   ]
  },
  {
   "cell_type": "code",
   "execution_count": 303,
   "metadata": {},
   "outputs": [
    {
     "name": "stdout",
     "output_type": "stream",
     "text": [
      "please check this song: \" woman \" from \" doja cat \".\n"
     ]
    }
   ],
   "source": [
    "# song recommendation\n",
    "\n",
    "if song_in in music_table['song'].values:\n",
    "    old_ind = music_table[music_table['song'] == song_in].index.tolist()\n",
    "    while True:\n",
    "        index = randrange(0,101)\n",
    "        if index != old_ind[0]:\n",
    "            print('please check this song: \"', music_table.iloc[index]['song'], '\" from \"', music_table.iloc[index]['artist'],'\".')\n",
    "            break\n",
    "else:\n",
    "    print('No hot song chosen')\n",
    "    \n"
   ]
  },
  {
   "cell_type": "code",
   "execution_count": null,
   "metadata": {},
   "outputs": [],
   "source": []
  }
 ],
 "metadata": {
  "interpreter": {
   "hash": "1fbb94b493f4a2be40eeededea278266a31d2929b69a0d694da97e233e8112ca"
  },
  "kernelspec": {
   "display_name": "Python 3.9.6 64-bit ('DA_Enviroment': conda)",
   "language": "python",
   "name": "python3"
  },
  "language_info": {
   "codemirror_mode": {
    "name": "ipython",
    "version": 3
   },
   "file_extension": ".py",
   "mimetype": "text/x-python",
   "name": "python",
   "nbconvert_exporter": "python",
   "pygments_lexer": "ipython3",
   "version": "3.9.6"
  },
  "orig_nbformat": 4
 },
 "nbformat": 4,
 "nbformat_minor": 2
}
